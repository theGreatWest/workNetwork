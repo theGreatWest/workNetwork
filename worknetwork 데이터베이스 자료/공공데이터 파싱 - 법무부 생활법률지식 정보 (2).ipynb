{
 "cells": [
  {
   "cell_type": "markdown",
   "id": "cc651c2e",
   "metadata": {},
   "source": [
    "## 공공데이터 파싱 - 법무부 생활법률지식 정보"
   ]
  },
  {
   "cell_type": "markdown",
   "id": "9addee07",
   "metadata": {},
   "source": [
    "### 필요한 라이브러리 설치"
   ]
  },
  {
   "cell_type": "code",
   "execution_count": 1,
   "id": "42abba45",
   "metadata": {},
   "outputs": [
    {
     "name": "stdout",
     "output_type": "stream",
     "text": [
      "Requirement already satisfied: beautifulsoup4 in c:\\users\\jin14\\anaconda3\\lib\\site-packages (4.11.1)\n",
      "Requirement already satisfied: soupsieve>1.2 in c:\\users\\jin14\\anaconda3\\lib\\site-packages (from beautifulsoup4) (2.3.1)\n",
      "Requirement already satisfied: pandas in c:\\users\\jin14\\anaconda3\\lib\\site-packages (1.4.4)\n",
      "Requirement already satisfied: python-dateutil>=2.8.1 in c:\\users\\jin14\\anaconda3\\lib\\site-packages (from pandas) (2.8.2)\n",
      "Requirement already satisfied: pytz>=2020.1 in c:\\users\\jin14\\anaconda3\\lib\\site-packages (from pandas) (2022.1)\n",
      "Requirement already satisfied: numpy>=1.18.5 in c:\\users\\jin14\\anaconda3\\lib\\site-packages (from pandas) (1.23.5)\n",
      "Requirement already satisfied: six>=1.5 in c:\\users\\jin14\\anaconda3\\lib\\site-packages (from python-dateutil>=2.8.1->pandas) (1.16.0)\n"
     ]
    }
   ],
   "source": [
    "!pip install beautifulsoup4\n",
    "!pip install pandas"
   ]
  },
  {
   "cell_type": "code",
   "execution_count": 2,
   "id": "1ccbe419",
   "metadata": {},
   "outputs": [],
   "source": [
    "from bs4 import BeautifulSoup\n",
    "import urllib.request\n",
    "import pandas as pd"
   ]
  },
  {
   "cell_type": "markdown",
   "id": "06dddfa5",
   "metadata": {},
   "source": [
    "### 최종 코드\n"
   ]
  },
  {
   "cell_type": "code",
   "execution_count": 3,
   "id": "51107077",
   "metadata": {
    "scrolled": false
   },
   "outputs": [
    {
     "name": "stdout",
     "output_type": "stream",
     "text": [
      "1\n",
      "2\n",
      "3\n",
      "4\n",
      "5\n",
      "6\n",
      "7\n",
      "8\n",
      "9\n",
      "10\n",
      "11\n",
      "12\n",
      "13\n",
      "14\n",
      "15\n",
      "16\n",
      "17\n",
      "18\n",
      "19\n",
      "20\n",
      "21\n",
      "22\n"
     ]
    }
   ],
   "source": [
    "result = []\n",
    "\n",
    "encodingKey = 'MmJjtcTdnEe%2BNFkiqEAgI1cheAthNqTbHNgZEmWPaeN5Ym8K61ZLKPx%2B2YiyGkVElBjTykn%2BvgiMMsKD6aJ3sw%3D%3D'\n",
    "decodingKey = 'MmJjtcTdnEe+NFkiqEAgI1cheAthNqTbHNgZEmWPaeN5Ym8K61ZLKPx+2YiyGkVElBjTykn+vgiMMsKD6aJ3sw=='\n",
    "\n",
    "num = 1# pageNo(페이지 번호)를 위한 변수\n",
    "row = 1000 # numOfRows(한 페이지 결과 수)를 위한 변수\n",
    "\n",
    "while(True):\n",
    "    url = 'http://apis.data.go.kr/1270000/lawedu/lawqna?ServiceKey='+ encodingKey + \"&pageNo=\" +str(num)+ '&numOfRows=' + str(row)\n",
    "    print(num)\n",
    "    try:\n",
    "        html = urllib.request.urlopen(url)\n",
    "        soupData = BeautifulSoup(html, 'html.parser')\n",
    "        if(not(int(soupData.find('resultcount').string))):\n",
    "            break\n",
    "    except (HTTPError or URLError) as e:\n",
    "        print('linkError')\n",
    "        break\n",
    "    data = soupData.find_all('item')\n",
    "    for data in soupData.find_all('item'):\n",
    "        if(data.find('maincategory').string == ('해고') or data.find('maincategory').string == ('임금')):\n",
    "            middlecategory = data.find('middlecategory').string\n",
    "            articleno = data.find('articleno').string\n",
    "            answer = data.find('answer').string\n",
    "            maincategory = data.find('maincategory').string\n",
    "            question = data.find('question').string\n",
    "            smallcategory = data.find('smallcategory').string\n",
    "            result.append([articleno]+[maincategory]+[middlecategory]+[smallcategory]+[question]+[answer])\n",
    "    num +=1\n",
    "data_tbl = pd.DataFrame(result, columns = ('law_no', 'main','middle','small','question','answer'))\n",
    "#data_tbl.to_csv('./data.csv', encoding = 'UTF-8', mode = 'w',index = True)  \n"
   ]
  },
  {
   "cell_type": "code",
   "execution_count": 6,
   "id": "6cfb8056",
   "metadata": {},
   "outputs": [
    {
     "data": {
      "text/html": [
       "<div>\n",
       "<style scoped>\n",
       "    .dataframe tbody tr th:only-of-type {\n",
       "        vertical-align: middle;\n",
       "    }\n",
       "\n",
       "    .dataframe tbody tr th {\n",
       "        vertical-align: top;\n",
       "    }\n",
       "\n",
       "    .dataframe thead th {\n",
       "        text-align: right;\n",
       "    }\n",
       "</style>\n",
       "<table border=\"1\" class=\"dataframe\">\n",
       "  <thead>\n",
       "    <tr style=\"text-align: right;\">\n",
       "      <th></th>\n",
       "      <th>law_no</th>\n",
       "      <th>main</th>\n",
       "      <th>middle</th>\n",
       "      <th>small</th>\n",
       "      <th>question</th>\n",
       "      <th>answer</th>\n",
       "    </tr>\n",
       "  </thead>\n",
       "  <tbody>\n",
       "    <tr>\n",
       "      <th>0</th>\n",
       "      <td>201441001</td>\n",
       "      <td>해고</td>\n",
       "      <td>해고일반</td>\n",
       "      <td>None</td>\n",
       "      <td>사실심변론종결시의 의미</td>\n",
       "      <td>사실심은 1심 재판과 2심 재판까지를 말하는데(3심은 법률심입니다), 변론종결시는 ...</td>\n",
       "    </tr>\n",
       "    <tr>\n",
       "      <th>1</th>\n",
       "      <td>204401001</td>\n",
       "      <td>해고</td>\n",
       "      <td>해고일반</td>\n",
       "      <td>None</td>\n",
       "      <td>사직서와 사직원의 차이</td>\n",
       "      <td>사직이란 근로자가 일방적으로 근로계약관계를 종료시키는 해약의 고지라고 할 것인 반면...</td>\n",
       "    </tr>\n",
       "    <tr>\n",
       "      <th>2</th>\n",
       "      <td>213464001</td>\n",
       "      <td>임금</td>\n",
       "      <td>노동 일반</td>\n",
       "      <td>휴가</td>\n",
       "      <td>미사용 연차수당을 미지급할 시 회사가 입는 불이익은 무엇인가요?</td>\n",
       "      <td>사용자가 미사용 연차수당을 근로자에 지급하지 않을 경우, 3년 이하의 징역 또는 2...</td>\n",
       "    </tr>\n",
       "    <tr>\n",
       "      <th>3</th>\n",
       "      <td>214454001</td>\n",
       "      <td>해고</td>\n",
       "      <td>해고예고</td>\n",
       "      <td>None</td>\n",
       "      <td>권고사직을 하는 경우에도 해고예고 수당이 발생하나요?</td>\n",
       "      <td>일반적으로 권고사직은 ‘회사로부터 사직을 권유받고 노동자가 이를 수락해 사직하는 자...</td>\n",
       "    </tr>\n",
       "    <tr>\n",
       "      <th>4</th>\n",
       "      <td>211057001</td>\n",
       "      <td>해고</td>\n",
       "      <td>해고의 제한</td>\n",
       "      <td>None</td>\n",
       "      <td>근로기준법 제23조의 해고의 정당한 이유는 무엇을 의미하나요</td>\n",
       "      <td>근로기준법 제23조의 정당한 이유, 즉 '사회통념상 근로관계를 계속할 수 없을 정도...</td>\n",
       "    </tr>\n",
       "    <tr>\n",
       "      <th>...</th>\n",
       "      <td>...</td>\n",
       "      <td>...</td>\n",
       "      <td>...</td>\n",
       "      <td>...</td>\n",
       "      <td>...</td>\n",
       "      <td>...</td>\n",
       "    </tr>\n",
       "    <tr>\n",
       "      <th>10179</th>\n",
       "      <td>200033001</td>\n",
       "      <td>임금</td>\n",
       "      <td>노동 일반</td>\n",
       "      <td>근로기준법 적용</td>\n",
       "      <td>학교법인 산하 사립학교에서 일반직원으로 근무를 하다가 그만두었는데, 체불된 임금을 ...</td>\n",
       "      <td>사립학교 교장이 학교 직원들의 업무를 지시, 감독하고 교장 명의로 학교예산에서 월급...</td>\n",
       "    </tr>\n",
       "    <tr>\n",
       "      <th>10180</th>\n",
       "      <td>200029001</td>\n",
       "      <td>임금</td>\n",
       "      <td>노동 일반</td>\n",
       "      <td>근로기준법 적용</td>\n",
       "      <td>회생정리절차가 개시된 회사의 대표이사도 사용자에 해당되지요</td>\n",
       "      <td>회생정리절차가 개시되면 회사의 업무집행, 재산관리, 처분권은 관리인에게 넘어가므로 ...</td>\n",
       "    </tr>\n",
       "    <tr>\n",
       "      <th>10181</th>\n",
       "      <td>200011002</td>\n",
       "      <td>임금</td>\n",
       "      <td>노동 일반</td>\n",
       "      <td>근로기준법 적용</td>\n",
       "      <td>대형할인매점의 판촉사원인데, 매장근무를 그만두어 퇴사를 했는데도 퇴직금을 받지 못하...</td>\n",
       "      <td>판촉사원들은 입점업체에게 고용되고, 입점업체의 명령에 따라 상품 판매 업무를 답당하...</td>\n",
       "    </tr>\n",
       "    <tr>\n",
       "      <th>10182</th>\n",
       "      <td>200009002</td>\n",
       "      <td>임금</td>\n",
       "      <td>노동 일반</td>\n",
       "      <td>근로기준법 적용</td>\n",
       "      <td>대형할인매점의 판촉사원인데, 매장근무를 그만두어 퇴사를 했는데도 임금을 지급받지 못...</td>\n",
       "      <td>판촉사원들은 입점업체에게 고용되고, 입점업체의 명령에 따라 상품 판매 업무를 답당하...</td>\n",
       "    </tr>\n",
       "    <tr>\n",
       "      <th>10183</th>\n",
       "      <td>200009001</td>\n",
       "      <td>임금</td>\n",
       "      <td>노동 일반</td>\n",
       "      <td>근로기준법 적용</td>\n",
       "      <td>백화점의 판촉사원인데, 매장근무를 그만두어 퇴사를 했는데도 임금을 지급받지 못하고 ...</td>\n",
       "      <td>판촉사원들은 입점업체에게 고용되고, 입점업체의 명령에 따라 상품 판매 업무를 답당하...</td>\n",
       "    </tr>\n",
       "  </tbody>\n",
       "</table>\n",
       "<p>10184 rows × 6 columns</p>\n",
       "</div>"
      ],
      "text/plain": [
       "          law_no main  middle      small  \\\n",
       "0      201441001   해고    해고일반       None   \n",
       "1      204401001   해고    해고일반       None   \n",
       "2      213464001   임금   노동 일반         휴가   \n",
       "3      214454001   해고    해고예고       None   \n",
       "4      211057001   해고  해고의 제한       None   \n",
       "...          ...  ...     ...        ...   \n",
       "10179  200033001   임금   노동 일반  근로기준법 적용    \n",
       "10180  200029001   임금   노동 일반  근로기준법 적용    \n",
       "10181  200011002   임금   노동 일반  근로기준법 적용    \n",
       "10182  200009002   임금   노동 일반  근로기준법 적용    \n",
       "10183  200009001   임금   노동 일반  근로기준법 적용    \n",
       "\n",
       "                                                question  \\\n",
       "0                                           사실심변론종결시의 의미   \n",
       "1                                           사직서와 사직원의 차이   \n",
       "2                    미사용 연차수당을 미지급할 시 회사가 입는 불이익은 무엇인가요?   \n",
       "3                          권고사직을 하는 경우에도 해고예고 수당이 발생하나요?   \n",
       "4                      근로기준법 제23조의 해고의 정당한 이유는 무엇을 의미하나요   \n",
       "...                                                  ...   \n",
       "10179  학교법인 산하 사립학교에서 일반직원으로 근무를 하다가 그만두었는데, 체불된 임금을 ...   \n",
       "10180                   회생정리절차가 개시된 회사의 대표이사도 사용자에 해당되지요   \n",
       "10181  대형할인매점의 판촉사원인데, 매장근무를 그만두어 퇴사를 했는데도 퇴직금을 받지 못하...   \n",
       "10182  대형할인매점의 판촉사원인데, 매장근무를 그만두어 퇴사를 했는데도 임금을 지급받지 못...   \n",
       "10183  백화점의 판촉사원인데, 매장근무를 그만두어 퇴사를 했는데도 임금을 지급받지 못하고 ...   \n",
       "\n",
       "                                                  answer  \n",
       "0      사실심은 1심 재판과 2심 재판까지를 말하는데(3심은 법률심입니다), 변론종결시는 ...  \n",
       "1      사직이란 근로자가 일방적으로 근로계약관계를 종료시키는 해약의 고지라고 할 것인 반면...  \n",
       "2      사용자가 미사용 연차수당을 근로자에 지급하지 않을 경우, 3년 이하의 징역 또는 2...  \n",
       "3      일반적으로 권고사직은 ‘회사로부터 사직을 권유받고 노동자가 이를 수락해 사직하는 자...  \n",
       "4      근로기준법 제23조의 정당한 이유, 즉 '사회통념상 근로관계를 계속할 수 없을 정도...  \n",
       "...                                                  ...  \n",
       "10179  사립학교 교장이 학교 직원들의 업무를 지시, 감독하고 교장 명의로 학교예산에서 월급...  \n",
       "10180  회생정리절차가 개시되면 회사의 업무집행, 재산관리, 처분권은 관리인에게 넘어가므로 ...  \n",
       "10181  판촉사원들은 입점업체에게 고용되고, 입점업체의 명령에 따라 상품 판매 업무를 답당하...  \n",
       "10182  판촉사원들은 입점업체에게 고용되고, 입점업체의 명령에 따라 상품 판매 업무를 답당하...  \n",
       "10183  판촉사원들은 입점업체에게 고용되고, 입점업체의 명령에 따라 상품 판매 업무를 답당하...  \n",
       "\n",
       "[10184 rows x 6 columns]"
      ]
     },
     "execution_count": 6,
     "metadata": {},
     "output_type": "execute_result"
    }
   ],
   "source": [
    "data_tbl"
   ]
  },
  {
   "cell_type": "code",
   "execution_count": 9,
   "id": "19a572d2",
   "metadata": {},
   "outputs": [
    {
     "name": "stdout",
     "output_type": "stream",
     "text": [
      "Number of unique values in 'main': ['해고' '임금']\n",
      "Number of unique values in 'middle': ['해고일반' '노동 일반' '해고예고' '해고의 제한' '임금일반' '평균임금' '임금채권' '퇴직금' '통상임금' '징계'\n",
      " '당연퇴직' '최저임금' '정리해고' '전출·전적' '휴업수당' '해고의 구제' '해고사유 서면통지' '전보·전근' '기타'\n",
      " '직위해제' '법정수당' '통상해고' '실업급여' '비전형근로관계' '포괄임금제도' '휴직' '폐업' '부당해고' '퇴직연금'\n",
      " '퇴직' '직권면직' '권고사직' '감급 및 감봉' '합의해지']\n"
     ]
    }
   ],
   "source": [
    "unique_main = data_tbl['main'].unique()\n",
    "unique_middle = data_tbl['middle'].unique()\n",
    "\n",
    "print(\"Number of unique values in 'main':\", unique_main)\n",
    "print(\"Number of unique values in 'middle':\", unique_middle)"
   ]
  },
  {
   "cell_type": "code",
   "execution_count": 10,
   "id": "4c93131c",
   "metadata": {
    "scrolled": true
   },
   "outputs": [
    {
     "name": "stdout",
     "output_type": "stream",
     "text": [
      "Number of unique combinations of 'main' and 'middle':    main     middle  count\n",
      "0    임금    감급 및 감봉      4\n",
      "1    임금         기타      4\n",
      "2    임금      노동 일반   4402\n",
      "3    임금       법정수당    216\n",
      "4    임금    비전형근로관계     40\n",
      "5    임금       실업급여     76\n",
      "6    임금       임금일반    544\n",
      "7    임금       임금채권    489\n",
      "8    임금       최저임금    283\n",
      "9    임금       통상임금    474\n",
      "10   임금        퇴직금    326\n",
      "11   임금       퇴직연금     41\n",
      "12   임금       평균임금    329\n",
      "13   임금     포괄임금제도     12\n",
      "14   임금       휴업수당     27\n",
      "15   해고       권고사직      8\n",
      "16   해고         기타    250\n",
      "17   해고       당연퇴직     16\n",
      "18   해고       부당해고      2\n",
      "19   해고      전보·전근     62\n",
      "20   해고      전출·전적     32\n",
      "21   해고       정리해고    391\n",
      "22   해고       직권면직      5\n",
      "23   해고       직위해제     14\n",
      "24   해고         징계    894\n",
      "25   해고       통상해고      2\n",
      "26   해고         퇴직      1\n",
      "27   해고        퇴직금      3\n",
      "28   해고         폐업      5\n",
      "29   해고       합의해지      1\n",
      "30   해고  해고사유 서면통지     17\n",
      "31   해고       해고예고     46\n",
      "32   해고     해고의 구제     20\n",
      "33   해고     해고의 제한     37\n",
      "34   해고       해고일반   1076\n",
      "35   해고         휴직     35\n"
     ]
    }
   ],
   "source": [
    "unique_combinations = data_tbl.groupby(['main', 'middle']).size().reset_index().rename(columns={0: 'count'})\n",
    "\n",
    "print(\"Number of unique combinations of 'main' and 'middle':\", unique_combinations)"
   ]
  },
  {
   "cell_type": "code",
   "execution_count": 13,
   "id": "65b5fc76",
   "metadata": {},
   "outputs": [],
   "source": [
    "unique_combinations[['main','middle']].to_csv('./data.csv', encoding = 'UTF-8', mode = 'w',index = True)"
   ]
  },
  {
   "cell_type": "markdown",
   "id": "eb7a20ea",
   "metadata": {},
   "source": [
    "### 테스트 코드"
   ]
  },
  {
   "cell_type": "code",
   "execution_count": 52,
   "id": "e33c6d8f",
   "metadata": {},
   "outputs": [
    {
     "name": "stdout",
     "output_type": "stream",
     "text": [
      "201441001\n",
      "해고\n",
      "해고일반\n",
      "None\n",
      "사실심변론종결시의 의미\n",
      "사실심은 1심 재판과 2심 재판까지를 말하는데(3심은 법률심입니다), 변론종결시는 법원이 판결 선고 전에 당사자의 주장과 입증자료의 제출을 종결하는 시기를 말합니다. 따라서 항소없이 1심에서 확정될 경우 1심 변론종결시가, 2심에서 확정될 경우 2심 변론종결시가 사실심변론종결시가 됩니다.\n",
      "-----------------------------------\n",
      "111380001\n",
      "부동산임대차\n",
      "주택임대차\n",
      "보증금\n",
      "동생과 공동명의로 주택을 임차할 계획입니다. 그런데 동생이 전에 살고 있던 원룸이 계약만기 전이라 보증금을 아직 받지 못해서 동생의 주민등록은 원룸에 그대로 둔 상태입니다. 저만 일단 새로운 주택에 전입신고를 하고 확정일자를 받을 예정입니다. 공동명의로 계약을 할 때 한 사람만 전입신고를 하고 확정일자를 받아도 주택임대차보호법의 적용을 받을 수 있는가요.\n",
      "대항력의 요건은 계약당사자의 전입신고와 실제 거주입니다. 임대차계약의 임차인으로 공동명의였다면 두 명이 모두 전입신고가 되어 있어야 합니다만, 전세보증금에 대해서는 각자의 지분을 표시하지 않으므로 불가분 채권으로 봅니다. 불가분채권일 때 공동명의자 중 한 명이라도 전입신고가 되어 있고 실제 거주를 한다면 공동명의자에게도 대항력과 우선변제권의 효력이 발생한다고 볼 수 있습니다.\n",
      "-----------------------------------\n",
      "111344001\n",
      "부동산임대차\n",
      "주택임대차\n",
      "보증금\n",
      "임차인이 수 개월 째 월세를 주지 않아 월세를 독촉하였음에도 여전히 미지급 상태입니다. 집을 빼달라고 했더니 임차인은 이사를 가면서 임차권등기명령을 걸어 놓았습니다. 임차권등기명령을 말소하기 위해 임차인에게 보증금을 지급하겠다고 계좌번호를 알려달라고 하였으나, 답변을 피하고 연락도 없습니다. 임차권등기명령을 취소할 수 있는 방법이 없는지요.\n",
      "임대인은 임차인이 보증금을 수령 거절할 경우 임차권등기말소를 하기 위해서는, 법원에 보증금과 이자(임차인이 이사를 가면서 임대인에게 주택을 인도한 다음 날 부터 공탁한 일자까지의 이자)를 합산한 금액을 변제공탁 한 후, 임대인이 임차권등기 취소신청을 하여 법원의 결정을 받아 임차권등기의 집행해제를 신청하여야 말소가 될 것으로 보입니다.\n",
      "-----------------------------------\n",
      "313997001\n",
      "상속\n",
      "상속\n",
      "상속인\n",
      "공무원연금법상 사망조위금을 지급받으려고 합니다. 청구절차에 대하여 알고 싶습니다.\n",
      "사망조위금을 받으려는 사람은 사망조위금청구서에 사망 및 사망자와의 관계를 증명할 수 있는 서류를 첨부하여 공무원연금공단(지방자치단체의 공무원에 관한 사망조위금은 지방자치단체의 장)에 제출해야 합니다(「공무원연금법 시행령」 제36조의2제4항 전단). 이 경우 담당 공무원 또는 직원은 「전자정부법」 제36조제1항 및 제38조에 따른 행정정보의 공동이용을 통해 주민등록표 등본(부양하던 공무원의 경우에 한함)을 확인해야 하며, 청구인이 확인에 동의하지 않는 경우에는 이를 제출하도록 해야 합니다(「공무원연금법 시행령」 제36조의2제4항 후단).\n",
      "-----------------------------------\n",
      "204401001\n",
      "해고\n",
      "해고일반\n",
      "None\n",
      "사직서와 사직원의 차이\n",
      "사직이란 근로자가 일방적으로 근로계약관계를 종료시키는 해약의 고지라고 할 것인 반면, 사직원이란 근로자가 근로계약관계의 합의해지를 청약하고 이에 대하여 사용자가 승낙함으로써 당해근로관계를 종료시키게 되는 경우\n",
      "-----------------------------------\n",
      "213464001\n",
      "임금\n",
      "노동 일반\n",
      "휴가\n",
      "미사용 연차수당을 미지급할 시 회사가 입는 불이익은 무엇인가요?\n",
      "사용자가 미사용 연차수당을 근로자에 지급하지 않을 경우, 3년 이하의 징역 또는 2천만원 이하의 벌금에 처하며 단, 근로자가 처벌을 원하지 않을 경우에는 형사처벌이 불가능합니다(근기법 제109조 제1항). 또한 미지급 임금에 대한 지연이자를 추가로 지급해야합니다(근기법 시행령 제17조).\n",
      "-----------------------------------\n",
      "111708001\n",
      "부동산임대차\n",
      "상가임대차\n",
      "차임 등의 증감청구\n",
      "상가건물 임대차기간이 끝나면 종전 보다 차임을 2배 올려서 다시 재계약을 체결하려고 합니다. 그런데 임대차기간이 끝날 때까지 건물주나 세입자 모두 아무런 말이 없었습니다. 지금이라도 재계약을 체결하면서 차임을 종전보다 2배 올릴 수 있을까요.\n",
      "사례의 경우 임대인이 임대차기간 만료전 6개월에서 1개월 전까지 임차인에게 갱신 거절의 통지 또는 조건 변경의 통지를 하지 아니하여 그 기간이 만료된 때에 전 임대차와 동일한 조건으로 다시 임대차한 것으로 보게 됩니다(상가건물임대차보호법 제10조 제4항 참조). 따라서 한편 임대인의 차임 증액 청구는 청구 당시 차임 등의 100분의 9를 초과할 수 없으며, 임대인의 이러한 증액 청구는 약정한 차임 등의 증액이 있은 후 1년 이내에는 하지 못합니다(상가건물임대차보호법 제11조 제2항 참조). 따라서 임대인은 묵시의 갱신이 있는 임대차에서 임차인의 동의가 없는 한 차임을 종전보다 2배이상 인상할 수 없습니다(대법원 2014.2.13, 선고, 2013다80481 판결 참조).\n",
      "-----------------------------------\n",
      "214454001\n",
      "해고\n",
      "해고예고\n",
      "None\n",
      "권고사직을 하는 경우에도 해고예고 수당이 발생하나요?\n",
      "일반적으로 권고사직은 ‘회사로부터 사직을 권유받고 노동자가 이를 수락해 사직하는 자진퇴사’에 해당합니다. 권고사직에 따른 사직서를 제출하는 경우는 ‘사용자가 일방적으로 근로관계를 종료시키는 해고’에 해당하지 않으므로 근로기준법상의 해고예고수당이 발생하지 않습니다.\n",
      "-----------------------------------\n",
      "110169001\n",
      "부동산임대차\n",
      "주택임대차\n",
      "임대차 기간\n",
      "주택임차인이 임대차기간이 끝나기 전까지 갱신 거절의 통지를 하지 않아서 갱신이 이루어지는 경우 임대차기간은 어떻게 되나요.\n",
      "주택임차인이 임대차기간이 끝나기 전까지 갱신 거절의 통지를 하지 않으면 묵시의 갱신이 이루어진다. 이 경우 임대차기간은 2년으로 봅니다(주택임대차보호법 제6조 제1항, 제2항).\n",
      "-----------------------------------\n",
      "111300001\n",
      "부동산임대차\n",
      "주택임대차\n",
      "임대차\n",
      "다가구주택이 세대별로 구분등기가 되었음에도 불구하고 일반건축물관리대장을 그대로 둔 채 집합건축물관리대장을 작성하지 않은 때에 건물의 층·호수를 기재하지 않고 건물의 지번만으로 전입신고를 하여도 되나요.\n",
      "다가구주택이 세대별로 구분등기가 되었으나 일반건축물관리대장을 그대로 둔 채 집합건축물관리대장을 작성하지 않은 때에는 층·호수를 기재하지 않고 건물의 지번만으로 전입신고를 하였거나, 등기부상 구분등기가 된 층·호수와 다른 호수로 전입신고를 하였더라도 그 공시방법은 유효합니다.\n",
      "-----------------------------------\n"
     ]
    }
   ],
   "source": [
    "for data in soupData.find_all('item'):\n",
    "    middlecategory = data.find('middlecategory').string\n",
    "    articleno = data.find('articleno').string\n",
    "    answer = data.find('answer').string\n",
    "    maincategory = data.find('maincategory').string\n",
    "    question = data.find('question').string\n",
    "    smallcategory = data.find('smallcategory').string\n",
    "    print(articleno)\n",
    "    print(maincategory)\n",
    "    print(middlecategory)\n",
    "    print(smallcategory)\n",
    "    print(question)\n",
    "    print(answer)\n",
    "    print(\"-----------------------------------\")\n",
    "    result.append([articleno]+[maincategory]+[middlecategory]+[smallcategory]+[question]+[answer])\n"
   ]
  },
  {
   "cell_type": "code",
   "execution_count": 4,
   "id": "6df9c57c",
   "metadata": {
    "scrolled": false
   },
   "outputs": [],
   "source": [
    "data_tbl = pd.DataFrame(result, columns = ('대분류', '중분류','소분류','글번호','질문','답변'))\n",
    "#data_tbl.to_csv('./data.csv', encoding = 'UTF-8', mode = 'w',index = True)\n"
   ]
  },
  {
   "cell_type": "code",
   "execution_count": 9,
   "id": "878532b7",
   "metadata": {
    "scrolled": false
   },
   "outputs": [],
   "source": [
    "from collections import Counter\n",
    "\n",
    "Counter(data_tbl['대분류'])\n",
    "middle = Counter(data_tbl['중분류'])\n",
    "small = Counter(data_tbl['소분류'])"
   ]
  },
  {
   "cell_type": "code",
   "execution_count": 13,
   "id": "7dedf552",
   "metadata": {},
   "outputs": [
    {
     "name": "stdout",
     "output_type": "stream",
     "text": [
      "Counter({'임금': 7267, '부동산임대차': 6478, '상속': 4320, '해고': 2917})\n"
     ]
    },
    {
     "data": {
      "text/plain": [
       "dict_keys(['해고', '부동산임대차', '상속', '임금'])"
      ]
     },
     "execution_count": 13,
     "metadata": {},
     "output_type": "execute_result"
    }
   ],
   "source": [
    "middle.keys()"
   ]
  },
  {
   "cell_type": "code",
   "execution_count": 14,
   "id": "60a84074",
   "metadata": {},
   "outputs": [
    {
     "data": {
      "text/plain": [
       "dict_keys(['해고일반', '주택임대차', '상속', '노동 일반', '상가임대차', '해고예고', '임대차일반', '해고의 제한', '임금일반', '평균임금', '임금채권', '퇴직금', '통상임금', '징계', '당연퇴직', '유류분', '최저임금', '정리해고', '유언', '전출·전적', '휴업수당', '해고의 구제', '해고사유 서면통지', '전보·전근', '기타', '직위해제', '법정수당', '통상해고', '실업급여', '비전형근로관계', '총설', None, '포괄임금제도', '휴직', '폐업', '부당해고', '퇴직연금', '퇴직', '직권면직', '권고사직', '감급 및 감봉', '합의해지'])"
      ]
     },
     "execution_count": 14,
     "metadata": {},
     "output_type": "execute_result"
    }
   ],
   "source": [
    "small.keys()"
   ]
  },
  {
   "cell_type": "code",
   "execution_count": null,
   "id": "904c89ee",
   "metadata": {},
   "outputs": [],
   "source": []
  }
 ],
 "metadata": {
  "kernelspec": {
   "display_name": "Python 3 (ipykernel)",
   "language": "python",
   "name": "python3"
  },
  "language_info": {
   "codemirror_mode": {
    "name": "ipython",
    "version": 3
   },
   "file_extension": ".py",
   "mimetype": "text/x-python",
   "name": "python",
   "nbconvert_exporter": "python",
   "pygments_lexer": "ipython3",
   "version": "3.9.13"
  }
 },
 "nbformat": 4,
 "nbformat_minor": 5
}
